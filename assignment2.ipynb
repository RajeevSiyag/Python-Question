{
 "cells": [
  {
   "cell_type": "markdown",
   "id": "1666d78f",
   "metadata": {},
   "source": [
    "# Assignment 2"
   ]
  },
  {
   "cell_type": "code",
   "execution_count": 1,
   "id": "559a225e",
   "metadata": {},
   "outputs": [
    {
     "data": {
      "text/plain": [
       "(0, 2)"
      ]
     },
     "execution_count": 1,
     "metadata": {},
     "output_type": "execute_result"
    }
   ],
   "source": [
    "#Question 1 :\n",
    "#Target given.. Find index of that in list\n",
    "\n",
    "def f(l,target):\n",
    "    for i in range(len(l)):\n",
    "        for j in range(len(l)):\n",
    "            if l[i] + l[j] == target :\n",
    "                return i,j\n",
    " \n",
    "l = [2,11,7,13]\n",
    "target = 9\n",
    "f(l,target)\n"
   ]
  },
  {
   "cell_type": "code",
   "execution_count": 9,
   "id": "4660f8f9",
   "metadata": {},
   "outputs": [
    {
     "name": "stdout",
     "output_type": "stream",
     "text": [
      "[['c', 31], ['e', 31], ['f', 31]]\n"
     ]
    }
   ],
   "source": [
    "#Question 2 :\n",
    "#Name of second min Marks\n",
    "\n",
    "lst = [[\"a\",30],[\"b\",31.1],[\"e\",31],[\"d\",31.11],[\"c\",31],[\"f\",31]]\n",
    "lst3 = []\n",
    "\n",
    "\n",
    "for i in range(len(lst)) :\n",
    "    for j in range(len(lst)):\n",
    "        if lst[i][1] < lst[j][1]:\n",
    "            x = lst[i]\n",
    "            lst[i] = lst[j]\n",
    "            lst[j] = x\n",
    "\n",
    "for i in range(len(lst)) :\n",
    "    if lst[1][1] == lst[i][1]:\n",
    "        lst3.append(lst[i])\n",
    "\n",
    "lst3.sort()\n",
    "\n",
    "print(lst3)\n",
    "\n"
   ]
  },
  {
   "cell_type": "code",
   "execution_count": 11,
   "id": "b24461e7",
   "metadata": {},
   "outputs": [
    {
     "name": "stdout",
     "output_type": "stream",
     "text": [
      "5555\n",
      "[5, 5, 5, 5]\n"
     ]
    }
   ],
   "source": [
    "#Question 3 :\n",
    "#Reverse two lists..Add them..Print list of the no\n",
    "\n",
    "def f1(l1,l2) :\n",
    "    l1.reverse()\n",
    "    l2.reverse()\n",
    "    l3 = []\n",
    "    i = 0\n",
    "    j = 0\n",
    "    m = len(l1)\n",
    "    n = len(l2)\n",
    "    s = 0\n",
    "    s1 = 0\n",
    "\n",
    "    while i < len(l1):\n",
    "        c = l1[i] * pow(10, m)\n",
    "        s = s + c\n",
    "        m = m - 1\n",
    "        i = i +1\n",
    "    a = s//10\n",
    "    \n",
    "\n",
    "    while j < len(l2):\n",
    "        d = l2[j] * pow(10, n)\n",
    "        s1 = s1 + d\n",
    "        n = n - 1\n",
    "        j = j +1\n",
    "    b = s1//10\n",
    "\n",
    "    f = a + b\n",
    "    print(f)\n",
    "    k = 0\n",
    "    \n",
    "\n",
    "    while k < 4:\n",
    "        l = f%10\n",
    "        l3.append(l)\n",
    "        f = f//10\n",
    "        k = k+1\n",
    "\n",
    "    print(l3)\n",
    "\n",
    "\n",
    "l1 = [1,2,3,4]\n",
    "l2 = [4,3,2,1]\n",
    "f1(l1,l2)"
   ]
  },
  {
   "cell_type": "code",
   "execution_count": 10,
   "id": "22bdbd2b",
   "metadata": {},
   "outputs": [
    {
     "name": "stdout",
     "output_type": "stream",
     "text": [
      "fl\n"
     ]
    }
   ],
   "source": [
    "#Question 4 :\n",
    "#Print Common Prefixs in list\n",
    "\n",
    "def lcp(lst1):\n",
    "\n",
    "    x = min(lst1) \n",
    "    lst1.remove(x)\n",
    "    for i in lst1:\n",
    "        while x != \"\":\n",
    "            if i.startswith(x):\n",
    "                break\n",
    "            else:\n",
    "                x = x[0:-1]\n",
    "    \n",
    "    print(x)\n",
    "\n",
    "\n",
    "lst1 = [\"fliower\", \"flight\", \"flake\"]\n",
    "lcp(lst1)"
   ]
  },
  {
   "cell_type": "code",
   "execution_count": 24,
   "id": "9bbe2508",
   "metadata": {},
   "outputs": [
    {
     "name": "stdout",
     "output_type": "stream",
     "text": [
      "[1, 1, 2, 3, 4, 5, 6, 7]\n"
     ]
    }
   ],
   "source": [
    "#Question 5 :\n",
    "#Add two list and sort them\n",
    "\n",
    "a = [4,5,6,7]\n",
    "b = [2,1,1,3]\n",
    "\n",
    "i = 0\n",
    "while i < len(b):\n",
    "    a.append(b[i])\n",
    "    i = i +1\n",
    "\n",
    "a.sort()\n",
    "\n",
    "print(a)\n"
   ]
  },
  {
   "cell_type": "code",
   "execution_count": 23,
   "id": "380237d0",
   "metadata": {},
   "outputs": [
    {
     "name": "stdout",
     "output_type": "stream",
     "text": [
      "112\n"
     ]
    }
   ],
   "source": [
    "#Question 6 :\n",
    "#Print Ascii Values\n",
    "c = \"p\"\n",
    "print(ord(c))\n"
   ]
  },
  {
   "cell_type": "code",
   "execution_count": 25,
   "id": "2fb066f7",
   "metadata": {},
   "outputs": [
    {
     "name": "stdout",
     "output_type": "stream",
     "text": [
      "Annagram\n"
     ]
    }
   ],
   "source": [
    "#Question 7 :\n",
    "#Is it Annagram\n",
    "\n",
    "s1 = \"listen\"\n",
    "s2 = \"silent\"\n",
    "\n",
    "b = sorted(s1)\n",
    "c = sorted(s2)\n",
    "\n",
    "if b == c :\n",
    "    print(\"Annagram\")\n",
    "else :\n",
    "    print(\"Not An Annagram\")"
   ]
  },
  {
   "cell_type": "code",
   "execution_count": 1,
   "id": "bed31e7b",
   "metadata": {},
   "outputs": [
    {
     "name": "stdout",
     "output_type": "stream",
     "text": [
      "ti\n"
     ]
    }
   ],
   "source": [
    "#Question 8 :\n",
    "#Print common suffix of list elements\n",
    "\n",
    "def lcp(lst1):\n",
    "\n",
    "    x = min(lst1) \n",
    "    lst1.remove(x)\n",
    "    \n",
    "    for i in lst1:\n",
    "        while x != \"\":\n",
    "            if i.endswith(x):\n",
    "                break\n",
    "            else:\n",
    "                x = x[1:]\n",
    "    \n",
    "    print(x)\n",
    "\n",
    "\n",
    "lst1 = [\"fliowerti\", \"flighti\", \"flaketi\"]\n",
    "lcp(lst1)"
   ]
  },
  {
   "cell_type": "code",
   "execution_count": null,
   "id": "0b473800",
   "metadata": {},
   "outputs": [],
   "source": [
    "\n"
   ]
  }
 ],
 "metadata": {
  "kernelspec": {
   "display_name": "Python 3 (ipykernel)",
   "language": "python",
   "name": "python3"
  },
  "language_info": {
   "codemirror_mode": {
    "name": "ipython",
    "version": 3
   },
   "file_extension": ".py",
   "mimetype": "text/x-python",
   "name": "python",
   "nbconvert_exporter": "python",
   "pygments_lexer": "ipython3",
   "version": "3.9.13"
  }
 },
 "nbformat": 4,
 "nbformat_minor": 5
}
