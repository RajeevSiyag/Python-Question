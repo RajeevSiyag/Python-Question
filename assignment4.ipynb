{
 "cells": [
  {
   "cell_type": "code",
   "execution_count": 54,
   "id": "05e2d29b",
   "metadata": {},
   "outputs": [
    {
     "name": "stdout",
     "output_type": "stream",
     "text": [
      "[[-1, 0, 1], [-1, 4, -3], [4, -2, -2], [-2, 5, -3], [-2, 5, -3]]\n"
     ]
    }
   ],
   "source": [
    "#QUESTION 1 : Write a function that takes a list as an argument and returns all uniqe triplets such that their sum is 0. \n",
    "#            The solution set must not contain any duplicate triplets. \n",
    "\n",
    "\n",
    "def triplets1(list1,n):\n",
    "    lst = []\n",
    "    for i in range(0,n-2):\n",
    "        for j in range(i+1,n-1):\n",
    "            for k in range(j+1,n):\n",
    "                if (list1[i] + list1[j] + list1[k] == 0) :\n",
    "                    lst.append([list1[i],list1[j],list1[k]])\n",
    "                    \n",
    "    print(lst)\n",
    " \n",
    "list1 = [-1,0,1,4,-2,-2,5,-3,6]\n",
    "n = len(list1)\n",
    "triplets1(list1,n)\n",
    "    "
   ]
  },
  {
   "cell_type": "code",
   "execution_count": 55,
   "id": "594df404",
   "metadata": {},
   "outputs": [
    {
     "name": "stdout",
     "output_type": "stream",
     "text": [
      "37\n"
     ]
    }
   ],
   "source": [
    "#QUESTION 2 : Create a function that takes a list and target as input and returs the count of triplets whose sum is equal to \n",
    "#             target varible\n",
    "def triplets1(list1,n,v):\n",
    "    count = 0\n",
    "    for i in range(0,n-2):\n",
    "        for j in range(0,n-1):\n",
    "            for k in range(0,n):\n",
    "                if (list1[i] + list1[j] + list1[k] == v) :\n",
    "                    count = count +1\n",
    "                    \n",
    "                    \n",
    "    print(count)\n",
    " \n",
    "list1 = [-1,0,1,4,-2,-2,5,-3,6]\n",
    "n = len(list1)\n",
    "v = 0\n",
    "triplets1(list1,n,v)\n",
    "    "
   ]
  },
  {
   "cell_type": "code",
   "execution_count": 4,
   "id": "7066807f",
   "metadata": {},
   "outputs": [],
   "source": [
    "#QUESTION 3 : Create a function that adds one to the most significant bit.\n",
    "#              Example: (200->300, 451->551, 12->22, 4900->5900)\n"
   ]
  },
  {
   "cell_type": "code",
   "execution_count": 6,
   "id": "ea189765",
   "metadata": {},
   "outputs": [
    {
     "name": "stdout",
     "output_type": "stream",
     "text": [
      "-1\n"
     ]
    }
   ],
   "source": [
    "#Question 1 : Given a list of words and two words word1 and word2, return the shortest distance between these two words in \n",
    "#             the list.\n",
    "#             Example: lst = [\"practice\", \"makes\", \"perfect\", \"coding\",\"makes\"].\n",
    "#             Given word1 = “coding”, word2 = “practice”, return 3. \n",
    "#             Given word1 = \"makes\", word2 = \"coding\", return 1.\n",
    "#             Note: You may assume that word1 does not equal to word2, and word1 and word2 are both in the list.\n",
    "\n",
    "lst1 = [\"practice\", \"makes\", \"perfect\", \"coding\",\"makes\"]\n",
    "n = len(lst1)\n",
    "word1 = \"makes\"\n",
    "word2 = \"coding\"\n",
    "lst2 = []\n",
    "\n",
    "for j in range(len(lst1)) :\n",
    "    if lst1[j] == word1:\n",
    "        b = j\n",
    "        for i in range(len(lst1)):\n",
    "            if lst1[i] == word2:\n",
    "                c = i\n",
    "                lst2.append(i-j)\n",
    "x = sorted(lst2)\n",
    "\n",
    "print(x[0])\n"
   ]
  },
  {
   "cell_type": "code",
   "execution_count": 10,
   "id": "71100c90",
   "metadata": {},
   "outputs": [
    {
     "name": "stdout",
     "output_type": "stream",
     "text": [
      "['1', '2', '3']\n",
      "['1', '3', '2']\n",
      "['2', '1', '3']\n",
      "['2', '3', '1']\n",
      "['3', '1', '2']\n",
      "['3', '2', '1']\n"
     ]
    }
   ],
   "source": [
    "#QUESTION 5 : Create a function that takes a list and an integer as arguments and make all possible numbers of size = integer \n",
    "#             without repetition.\n",
    "\n",
    "def permutation(lst):\n",
    "    if len(lst) == 0:\n",
    "        return []\n",
    "    \n",
    "    if len(lst) == 1:\n",
    "        return [lst]\n",
    "    \n",
    "    l = []\n",
    "    \n",
    "    for i in range(len(lst)):\n",
    "        m = lst[i]\n",
    "        remLst = lst[:i] + lst[i+1:]\n",
    "        \n",
    "        for p in permutation(remLst):\n",
    "            l.append([m] + p)\n",
    "    return l\n",
    "\n",
    "data = list('123')\n",
    "for p in permutation(data):\n",
    "    print (p)"
   ]
  },
  {
   "cell_type": "code",
   "execution_count": null,
   "id": "08e5ee75",
   "metadata": {},
   "outputs": [],
   "source": []
  }
 ],
 "metadata": {
  "kernelspec": {
   "display_name": "Python 3 (ipykernel)",
   "language": "python",
   "name": "python3"
  },
  "language_info": {
   "codemirror_mode": {
    "name": "ipython",
    "version": 3
   },
   "file_extension": ".py",
   "mimetype": "text/x-python",
   "name": "python",
   "nbconvert_exporter": "python",
   "pygments_lexer": "ipython3",
   "version": "3.10.9"
  }
 },
 "nbformat": 4,
 "nbformat_minor": 5
}
