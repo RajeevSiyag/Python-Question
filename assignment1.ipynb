{
 "cells": [
  {
   "cell_type": "markdown",
   "id": "ce0ef4d9",
   "metadata": {},
   "source": [
    "# Assignment 1"
   ]
  },
  {
   "cell_type": "code",
   "execution_count": 3,
   "id": "137ba7de",
   "metadata": {},
   "outputs": [
    {
     "name": "stdout",
     "output_type": "stream",
     "text": [
      "Enter age : 18\n",
      "You are eligible for vote.\n"
     ]
    }
   ],
   "source": [
    "#Question 1 :\n",
    "#Program who takes input as age and tells whether you are eligible to vote or not ?\n",
    "\n",
    "b = int(input(\"Enter age : \"))\n",
    "\n",
    "if b < 18 :\n",
    "    print(\"You are not eligible for vote. \")\n",
    "else :\n",
    "    print(\"You are eligible for vote.\")"
   ]
  },
  {
   "cell_type": "code",
   "execution_count": 2,
   "id": "1709e025",
   "metadata": {},
   "outputs": [
    {
     "name": "stdout",
     "output_type": "stream",
     "text": [
      "Enter number of number which you want to enter : 2\n",
      "Enter Number : 45\n",
      "Enter Number : 65\n",
      "65\n"
     ]
    }
   ],
   "source": [
    "#Question 2 :\n",
    "#Program to find larger number entered by user.\n",
    "\n",
    "list1 = []\n",
    "b = int(input(\"Enter number of number which you want to enter : \"))\n",
    "\n",
    "while len(list1) < b :\n",
    "    list1.append(int(input(\"Enter Number : \")))\n",
    "\n",
    "for j in range(b-1):\n",
    "    for i in range(b-1):\n",
    "        if(list1[i]<list1[i+1]):\n",
    "            x = list1[i]\n",
    "            list1[i] = list1[i+1]\n",
    "            list1[i+1] = x\n",
    "print(list1[0])"
   ]
  },
  {
   "cell_type": "code",
   "execution_count": 4,
   "id": "9275ca27",
   "metadata": {},
   "outputs": [
    {
     "name": "stdout",
     "output_type": "stream",
     "text": [
      "[7, 17, 37, 47, 67, 97, 107, 127, 137, 157]\n"
     ]
    }
   ],
   "source": [
    "#Question 3 :\n",
    "#Program to print first 10 prime numbers whose module with 5 is 2.\n",
    "\n",
    "def program():\n",
    "    list1 = []\n",
    "    num = 5\n",
    "    while len(list1) < 10 :\n",
    "        flag = 0\n",
    "        i = 2\n",
    "        while i < num :\n",
    "            if num%i == 0 :\n",
    "                flag = 1\n",
    "                break\n",
    "            i = i + 1\n",
    "        if flag == 0:\n",
    "            if num%5 == 2:\n",
    "                list1.append(num)\n",
    "        num = num+1\n",
    "    print(list1)\n",
    "\n",
    "program()"
   ]
  },
  {
   "cell_type": "code",
   "execution_count": 6,
   "id": "09297d99",
   "metadata": {},
   "outputs": [
    {
     "name": "stdout",
     "output_type": "stream",
     "text": [
      "Enter First Number : 2\n",
      "Enter Second Number : 4\n",
      "3.0\n"
     ]
    }
   ],
   "source": [
    "#Question 4 :\n",
    "#Program to find the average of two numbers entered by a user?\n",
    "\n",
    "a = int(input(\"Enter First Number : \"))\n",
    "b = int(input(\"Enter Second Number : \"))\n",
    "\n",
    "c = (a+b)/2 \n",
    "print(c)"
   ]
  },
  {
   "cell_type": "code",
   "execution_count": 7,
   "id": "ab812023",
   "metadata": {},
   "outputs": [
    {
     "name": "stdout",
     "output_type": "stream",
     "text": [
      "Enter Number : 2\n",
      "4\n"
     ]
    }
   ],
   "source": [
    "#Question 5 :\n",
    "#Program to calculate Square entered by User?\n",
    "\n",
    "n = int(input(\"Enter Number : \"))\n",
    "\n",
    "s = n*n\n",
    "\n",
    "print(s)\n"
   ]
  },
  {
   "cell_type": "code",
   "execution_count": 8,
   "id": "719585a0",
   "metadata": {},
   "outputs": [
    {
     "name": "stdout",
     "output_type": "stream",
     "text": [
      "Enter Name : Rajeev\n",
      "Good Afternoon Rajeev\n"
     ]
    }
   ],
   "source": [
    "#Question 6 :\n",
    "#Program to display User entered name using Input() followed by “Good Afternoon”.\n",
    "\n",
    "n = input(\"Enter Name : \")\n",
    "\n",
    "print(\"Good Afternoon\",n)"
   ]
  },
  {
   "cell_type": "code",
   "execution_count": 9,
   "id": "a4f555db",
   "metadata": {},
   "outputs": [
    {
     "name": "stdout",
     "output_type": "stream",
     "text": [
      "String : Hello my  name is  Rajeev Siyag.\n",
      "Hello my name is Rajeev Siyag.\n"
     ]
    }
   ],
   "source": [
    "#Question 7 :\n",
    "#Program to detect double Spaces in a User entered String if yes then replace it with single space.\n",
    "\n",
    "m = str(input(\"String : \"))\n",
    "\n",
    "n = m.replace(\"  \", \" \")\n",
    "\n",
    "print(n)"
   ]
  },
  {
   "cell_type": "code",
   "execution_count": 10,
   "id": "db5327d8",
   "metadata": {},
   "outputs": [
    {
     "name": "stdout",
     "output_type": "stream",
     "text": [
      "Dear Sir \n",
      "\n",
      " Python is very amazing Programming language.\n",
      " Please share more Questions like this\n",
      "\n",
      "Thank you\n"
     ]
    }
   ],
   "source": [
    "#Question 8 :\n",
    "#Program to format below code using escape sequence Characters.\n",
    "#“Dear Sir Python is very amazing Programming language.Please share more Questions like this Thank you”\n",
    "\n",
    "print(\"Dear Sir \\n\\n Python is very amazing Programming language.\\n Please share more Questions like this\\n\\nThank you\")"
   ]
  },
  {
   "cell_type": "code",
   "execution_count": 11,
   "id": "65a489cf",
   "metadata": {},
   "outputs": [
    {
     "name": "stdout",
     "output_type": "stream",
     "text": [
      "Enter Name : Rajeev\n",
      "Enter Name : Xyz\n",
      "Enter Name : abc\n",
      "Enter Name : def\n",
      "Enter Name : ghi\n",
      "Enter Name : jkl\n",
      "Enter Name : mno\n",
      "['Rajeev', 'Xyz', 'abc', 'def', 'ghi', 'jkl', 'mno']\n"
     ]
    }
   ],
   "source": [
    "#Question 9 :\n",
    "#Program to store 7 names of your friends entered by User .\n",
    "\n",
    "list1 = []\n",
    "\n",
    "while len(list1) < 7:\n",
    "    list1.append(input(\"Enter Name : \"))\n",
    "\n",
    "print(list1)"
   ]
  },
  {
   "cell_type": "code",
   "execution_count": 12,
   "id": "eb8f003e",
   "metadata": {},
   "outputs": [
    {
     "name": "stdout",
     "output_type": "stream",
     "text": [
      "Enter Number : 98\n",
      "Enter Number : 90\n",
      "Enter Number : 85\n",
      "Enter Number : 99\n",
      "Enter Number : 90\n",
      "Enter Number : 86\n",
      "Enter Number : 81\n",
      "Enter Number : 75\n",
      "Enter Number : 79\n",
      "Enter Number : 75\n",
      "[75, 75, 79, 81, 85, 86, 90, 90, 98, 99]\n"
     ]
    }
   ],
   "source": [
    "#Question 10 :\n",
    "#Program to accept Marks of 10 students entered by user and display them in sorted Way.\n",
    "\n",
    "list1 = []\n",
    "while len(list1) < 10 :\n",
    "    list1.append(int(input(\"Enter Number : \")))\n",
    "\n",
    "for j in range(10-1):\n",
    "    for i in range(10-1):\n",
    "        if(list1[i]>list1[i+1]):\n",
    "            x = list1[i]\n",
    "            list1[i] = list1[i+1]\n",
    "            list1[i+1] = x\n",
    "print(list1)"
   ]
  },
  {
   "cell_type": "code",
   "execution_count": 13,
   "id": "3f4a18ac",
   "metadata": {},
   "outputs": [
    {
     "name": "stdout",
     "output_type": "stream",
     "text": [
      "Enter age : 18\n",
      "(11, 12, 18, 14, 15, 5, 4, 6, 9, 10)\n"
     ]
    }
   ],
   "source": [
    "#Question 11 :\n",
    "#Program to save heights of 10 students in tuple and then change the height of 3rd student.\n",
    "\n",
    "tuple1 = (11, 12, 13, 14, 15, 5, 4, 6, 9, 10)\n",
    "\n",
    "list1 = list(tuple1)\n",
    "list1[2] = int(input(\"Enter age : \"))\n",
    "\n",
    "tuple1 = tuple(list1)\n",
    "\n",
    "print(tuple1)"
   ]
  },
  {
   "cell_type": "code",
   "execution_count": 14,
   "id": "9ba12660",
   "metadata": {},
   "outputs": [
    {
     "name": "stdout",
     "output_type": "stream",
     "text": [
      "Enter Number : 10\n",
      "Enter Number : 5\n",
      "Enter Number : 4\n",
      "Enter Number : 1\n",
      "Enter Number : 3\n",
      "13\n"
     ]
    }
   ],
   "source": [
    "#Question 12 :\n",
    "#Program to calculate sum of elements of list having value less than 10.\n",
    "\n",
    "list1 = []\n",
    "sum1 = 0\n",
    "list1 = []\n",
    "while len(list1) < 5 :\n",
    "    list1.append(int(input(\"Enter Number : \")))\n",
    "\n",
    "for i in range(len(list1)):\n",
    "    if list1[i] < 10 :\n",
    "        sum1 = sum1 + list1[i]\n",
    "\n",
    "print(sum1)"
   ]
  },
  {
   "cell_type": "code",
   "execution_count": 15,
   "id": "037d1315",
   "metadata": {},
   "outputs": [
    {
     "name": "stdout",
     "output_type": "stream",
     "text": [
      "7\n"
     ]
    }
   ],
   "source": [
    "#Question 13 :\n",
    "#Program to calculate teen ager students in list.\n",
    "#list=[11,9,14,18,15,16,20,13,16,17,13,18,0]\n",
    "\n",
    "list1 = [11,9,14,18,15,16,20,13,16,17,13,18,0]\n",
    "count = 0\n",
    "for i in range(len(list1)):\n",
    "    if list1[i] > 13 and list1[i]< 19 :\n",
    "        count = count + 1\n",
    "\n",
    "print(count)"
   ]
  },
  {
   "cell_type": "code",
   "execution_count": 16,
   "id": "e2e08c55",
   "metadata": {},
   "outputs": [
    {
     "name": "stdout",
     "output_type": "stream",
     "text": [
      "Length of dictionary  : 2\n",
      "Meaning of Name : Lotus\n",
      "Name : Rajeev\n",
      "Meaning of Name : Xyz\n",
      "Name : Abc\n",
      "{'Rajeev': 'Lotus', 'Abc': 'Xyz'}\n"
     ]
    }
   ],
   "source": [
    "#Question 14 :\n",
    "#Program to create a dictionary with keys=name in English and value = Meaning of name.\n",
    "\n",
    "dict1 = {}\n",
    "b = int(input(\"Length of dictionary  : \"))\n",
    "\n",
    "while len(dict1) < b :\n",
    "    dict1[input(\"Name : \")] = input(\"Meaning of Name : \")\n",
    "\n",
    "print(dict1)"
   ]
  },
  {
   "cell_type": "code",
   "execution_count": 17,
   "id": "701fbcbd",
   "metadata": {},
   "outputs": [],
   "source": [
    "#Question 15 :\n",
    "#Program to take 10 numbers input and display only distinct elements.\n",
    "\n"
   ]
  },
  {
   "cell_type": "code",
   "execution_count": 18,
   "id": "50c522eb",
   "metadata": {},
   "outputs": [],
   "source": [
    "#Question 16 :\n",
    "#Create an empty dict and then allow your friends to enter names of favorite heroes as key and Movies as Value.\n",
    "\n",
    "#Try to repeat your favorite Hero followed by same movie.\n",
    "#Try to repeat hero followed by different movie\n",
    "#Try to add different hero with the same movie.\n",
    "#How to print all heroes' names.\n",
    "#How to print all movie names.\n",
    "\n"
   ]
  },
  {
   "cell_type": "code",
   "execution_count": 19,
   "id": "191e1217",
   "metadata": {},
   "outputs": [],
   "source": [
    "#Question 17 :\n",
    "#Create a set and then add int,float, string,tuple,list as element in that set.\n",
    "#Then try to change the second element in the list.\n",
    "\n"
   ]
  },
  {
   "cell_type": "code",
   "execution_count": 20,
   "id": "ed62f7e6",
   "metadata": {},
   "outputs": [
    {
     "name": "stdout",
     "output_type": "stream",
     "text": [
      "Enter your five subject number (Max Marks : 100) : \n",
      "SUBJECT 1 : 85\n",
      "SUBJECT 2 : 79\n",
      "SUBJECT 3 : 90\n",
      "SUBJECT 4 : 95\n",
      "SUBJECT 5 : 98\n",
      "Pass\n"
     ]
    }
   ],
   "source": [
    "#Question 18 :\n",
    "#Program to find out whether a student is overall pass or fail. His marks in 5 subjects entered by the user.\n",
    "#To pass in each subject he must score 33%.\n",
    "#To overall pass he must pass in all subjects and total marks in all subjects greater than 40%.\n",
    "#Maximum marks in each subject is 100.\n",
    "\n",
    "print(\"Enter your five subject number (Max Marks : 100) : \")\n",
    "\n",
    "a = int(input(\"SUBJECT 1 : \"))\n",
    "b = int(input(\"SUBJECT 2 : \"))\n",
    "c = int(input(\"SUBJECT 3 : \"))\n",
    "d = int(input(\"SUBJECT 4 : \"))\n",
    "e = int(input(\"SUBJECT 5 : \"))\n",
    "\n",
    "sum = a+b+c+d+e\n",
    "per = (sum/500)*100\n",
    "\n",
    "if a < 33 or b < 33 or c < 33 or  d < 33 or e < 33 :\n",
    "    print(\"Fail\")\n",
    "\n",
    "elif per < 40 :\n",
    "    print(\"Fail\")\n",
    "\n",
    "else :\n",
    "    print(\"Pass\")"
   ]
  },
  {
   "cell_type": "code",
   "execution_count": 21,
   "id": "e5e6cb2e",
   "metadata": {},
   "outputs": [],
   "source": [
    "#Question 19 :\n",
    "#A mail is defined as spam if it contains any from the below keywords. Write a program to check if text entered by a user is spam or not.\n",
    "#spam_words=[“make a lot of money”, “buy now” , “subscribe this” , “Click this”, “you Won” ,”Discount”,”Coupan”]\n",
    "\n"
   ]
  },
  {
   "cell_type": "code",
   "execution_count": 22,
   "id": "4706921b",
   "metadata": {},
   "outputs": [
    {
     "name": "stdout",
     "output_type": "stream",
     "text": [
      "Enter a character : Hello\n",
      "No, 10 Characters Long\n"
     ]
    }
   ],
   "source": [
    "#Question 20 :\n",
    "#Program to check whether an entered username is 10 characters long or not.\n",
    "\n",
    "a = input(\"Enter a character : \")\n",
    "\n",
    "b = len(a)\n",
    "\n",
    "if b == 10:\n",
    "    print(\"Yes, 10 Characters long\")\n",
    "else :\n",
    "    print(\"No, 10 Characters Long\")"
   ]
  },
  {
   "cell_type": "code",
   "execution_count": 23,
   "id": "d21a37e3",
   "metadata": {},
   "outputs": [],
   "source": [
    "#Question 21 :\n",
    "#Program to check whether a entered K_ID is valid or Not. Valid means exist in Our Database.\n",
    "\n"
   ]
  },
  {
   "cell_type": "code",
   "execution_count": 24,
   "id": "063d19be",
   "metadata": {},
   "outputs": [
    {
     "name": "stdout",
     "output_type": "stream",
     "text": [
      "Write Your Review : +ve\n",
      "['good', 'amazing', 'value for money']\n"
     ]
    }
   ],
   "source": [
    "#Question 22 :\n",
    "#Program to find whether a user entered a Review is positive or Negative.\n",
    "\n",
    "#+ve means text contains from [“good”, “amazing”, “value for money”]\n",
    "#-ve means text containing words from [“cheap”, “poor”,”fraud”].\n",
    "\n",
    "list1 = [\"good\", \"amazing\", \"value for money\"]\n",
    "list2 = [\"cheap\", \"poor\",\"fraud\"]\n",
    "\n",
    "a = input(\"Write Your Review : \")\n",
    "\n",
    "if a == \"+ve\" :\n",
    "    print(list1)\n",
    "\n",
    "elif a == \"-ve\" :\n",
    "    print(list2)\n",
    "\n",
    "else : \n",
    "    print(\"Envalid\")\n",
    "    "
   ]
  },
  {
   "cell_type": "code",
   "execution_count": 25,
   "id": "bd73e914",
   "metadata": {},
   "outputs": [
    {
     "name": "stdout",
     "output_type": "stream",
     "text": [
      "Enter a Number : 1\n",
      "Enter a number want to go till : 10\n",
      "While Loop\n",
      "1 X 0 = 0\n",
      "1 X 1 = 1\n",
      "1 X 2 = 2\n",
      "1 X 3 = 3\n",
      "1 X 4 = 4\n",
      "1 X 5 = 5\n",
      "1 X 6 = 6\n",
      "1 X 7 = 7\n",
      "1 X 8 = 8\n",
      "1 X 9 = 9\n",
      "1 X 10 = 10\n",
      " \n",
      "For Loop\n",
      "1 X 0 = 0\n",
      "1 X 1 = 1\n",
      "1 X 2 = 2\n",
      "1 X 3 = 3\n",
      "1 X 4 = 4\n",
      "1 X 5 = 5\n",
      "1 X 6 = 6\n",
      "1 X 7 = 7\n",
      "1 X 8 = 8\n",
      "1 X 9 = 9\n",
      "1 X 10 = 10\n"
     ]
    }
   ],
   "source": [
    "#Question 23 :\n",
    "# Create two programs to print a table of user entered number using while and for loop.\n",
    "\n",
    "#while loop\n",
    "\n",
    "a = int(input(\"Enter a Number : \"))\n",
    "b = int(input(\"Enter a number want to go till : \"))\n",
    "c = a\n",
    "\n",
    "print(\"While Loop\")\n",
    "i = 0\n",
    "while i <= b:\n",
    "    print(a,\"X\",i,\"=\",a*i)\n",
    "    i = i+1\n",
    "\n",
    "# for loop\n",
    "\n",
    "print(\" \")\n",
    "print(\"For Loop\")\n",
    "for j in range(0,b+1) :\n",
    "    print(a,\"X\",j,\"=\",j*c)"
   ]
  },
  {
   "cell_type": "code",
   "execution_count": 26,
   "id": "3790e7fe",
   "metadata": {},
   "outputs": [],
   "source": [
    "#Question 24:\n",
    "#Create a Dictionary with name and marks and greet only those names having marks greater than 70.\n",
    "#Greet Message=” Congrats name you scored more than 70 ”.\n",
    "\n"
   ]
  },
  {
   "cell_type": "code",
   "execution_count": 27,
   "id": "bf48775e",
   "metadata": {},
   "outputs": [
    {
     "name": "stdout",
     "output_type": "stream",
     "text": [
      "Enter N Natural Numbers : 10\n",
      "55\n"
     ]
    }
   ],
   "source": [
    "#Question 25:\n",
    "#Program to calculate sum of first N natural numbers.\n",
    "\n",
    "b = int(input(\"Enter N Natural Numbers : \"))\n",
    "sum = 0\n",
    "for i in range(0,b+1):\n",
    "    sum = sum + i\n",
    "\n",
    "print(sum)"
   ]
  },
  {
   "cell_type": "code",
   "execution_count": 28,
   "id": "05c6f97f",
   "metadata": {},
   "outputs": [
    {
     "name": "stdout",
     "output_type": "stream",
     "text": [
      "Enter Number : 2\n",
      "Enter a number want to go till : 10\n",
      "2 X 10 = 20\n",
      "2 X 9 = 18\n",
      "2 X 8 = 16\n",
      "2 X 7 = 14\n",
      "2 X 6 = 12\n",
      "2 X 5 = 10\n",
      "2 X 4 = 8\n",
      "2 X 3 = 6\n",
      "2 X 2 = 4\n",
      "2 X 1 = 2\n",
      "2 X 0 = 0\n"
     ]
    }
   ],
   "source": [
    "#Question 26 :\n",
    "#Program to print table of a number in reversed order.\n",
    "\n",
    "n = int(input(\"Enter Number : \"))\n",
    "\n",
    "i = int(input(\"Enter a number want to go till : \"))\n",
    "\n",
    "while i >= 0:\n",
    "    print(n,\"X\",i,\"=\",n*i)\n",
    "    i = i-1"
   ]
  },
  {
   "cell_type": "code",
   "execution_count": null,
   "id": "780fdf09",
   "metadata": {},
   "outputs": [],
   "source": []
  }
 ],
 "metadata": {
  "kernelspec": {
   "display_name": "Python 3 (ipykernel)",
   "language": "python",
   "name": "python3"
  },
  "language_info": {
   "codemirror_mode": {
    "name": "ipython",
    "version": 3
   },
   "file_extension": ".py",
   "mimetype": "text/x-python",
   "name": "python",
   "nbconvert_exporter": "python",
   "pygments_lexer": "ipython3",
   "version": "3.9.13"
  }
 },
 "nbformat": 4,
 "nbformat_minor": 5
}
