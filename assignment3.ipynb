{
 "cells": [
  {
   "cell_type": "markdown",
   "id": "2391dd28",
   "metadata": {},
   "source": [
    "Question 1 : What is difference between difference and symmetric difference.\n"
   ]
  },
  {
   "cell_type": "markdown",
   "id": "fe9f9663",
   "metadata": {},
   "source": [
    "Answer     : Difference: Elements present on one set, but not on the other.\n",
    "             Symmetric Difference: Elements from both sets, that are not present on the other."
   ]
  },
  {
   "cell_type": "markdown",
   "id": "b21acc3e",
   "metadata": {},
   "source": [
    "Question 2 : Why we use comma after element of tuple."
   ]
  },
  {
   "cell_type": "markdown",
   "id": "33104c7b",
   "metadata": {},
   "source": [
    "Answer : To create a tuple with only one item, you have add a comma after the item, otherwise Python will not recognize the variable as a tuple."
   ]
  },
  {
   "cell_type": "markdown",
   "id": "450b8fa9",
   "metadata": {},
   "source": [
    "Question 3 : Why list is convert in sorted when change list to set."
   ]
  },
  {
   "cell_type": "markdown",
   "id": "027960ef",
   "metadata": {},
   "source": [
    "Answer : A set is an unordered data structure, so it does not preserve the insertion order"
   ]
  },
  {
   "cell_type": "code",
   "execution_count": 17,
   "id": "5ceb3441",
   "metadata": {},
   "outputs": [],
   "source": [
    "# Question 4 : Make a function which take string and reverse vowels in String.\n",
    "\n",
    "\n"
   ]
  },
  {
   "cell_type": "code",
   "execution_count": null,
   "id": "82006142",
   "metadata": {},
   "outputs": [],
   "source": []
  },
  {
   "cell_type": "code",
   "execution_count": null,
   "id": "3d853cac",
   "metadata": {},
   "outputs": [],
   "source": []
  }
 ],
 "metadata": {
  "kernelspec": {
   "display_name": "Python 3 (ipykernel)",
   "language": "python",
   "name": "python3"
  },
  "language_info": {
   "codemirror_mode": {
    "name": "ipython",
    "version": 3
   },
   "file_extension": ".py",
   "mimetype": "text/x-python",
   "name": "python",
   "nbconvert_exporter": "python",
   "pygments_lexer": "ipython3",
   "version": "3.10.9"
  }
 },
 "nbformat": 4,
 "nbformat_minor": 5
}
